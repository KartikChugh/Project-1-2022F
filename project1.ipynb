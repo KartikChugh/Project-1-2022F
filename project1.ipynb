{
 "cells": [
  {
   "cell_type": "markdown",
   "id": "comparable-extent",
   "metadata": {},
   "source": [
    "# Project 1: Assembling Genes"
   ]
  },
  {
   "cell_type": "markdown",
   "id": "regular-globe",
   "metadata": {},
   "source": [
    "   <div class=\"alert alert-block alert-danger\">\n",
    "    <center>Due: <b>Monday, September 5, 8:59pm</b>.</center> \n",
    "   </div>\n",
    "   \n",
    "   <div class=\"alert alert-block alert-warning\">\n",
    "   <center>\n",
    "       <b>Collaboration and Resource Policy</b>\n",
    "    </center>\n",
    "    \n",
    "For this assignment, you are encouraged to work with one other person satisfying the constraints from Class 2. \n",
    "You are permitted (actually _encouraged_) to discuss these problems with anyone you want, including other students in the class. If you do discuss the specific questions in the assignment with anyone other than your assignment partner and the course staff, though, you should list them in the _External resources used_ section below.\n",
    "    \n",
    "You are welcome to use any resources you want for this assignment, other than ones that would defeat the purpose of the assignment. This means you should not look at answers or code from previous semesters of this course, or from any other students in the class (other than your collaboration with your partner), and if you find code that implements the problem you are being asked to do for the assignment, you should not use that code. You should document all external resource you use that are not part of the course materials in the _External resources used_ section below.\n",
    "    </div>"
   ]
  },
  {
   "cell_type": "markdown",
   "id": "tropical-result",
   "metadata": {},
   "source": [
    "**Team submitting this assignment:**  \n",
    "<div class=\"alert alert-success\">\n",
    "    <b><em>list each member of your team here, including both your name and UVA computing id</em></b>\n",
    "\n",
    "Team Members (Names):  \n",
    "\n",
    "Team Member UVA Computing IDs:\n",
    "\n",
    "</div>\n",
    "\n",
    "**External resources used:** \n",
    "<div class=\"alert alert-success\">\n",
    "<em>It is not necessary to list the course materials, but if you used any other resources, including discussing problems with students not on your team, list them here.</em>\n",
    "    \n",
    "External Resources Used:\n",
    "\n",
    "</div>"
   ]
  },
  {
   "cell_type": "markdown",
   "id": "unsigned-bookmark",
   "metadata": {},
   "source": [
    "In this project, we will explore genome assembly—the process of determining the order of nucleotides in DNA from fragmented reads. As you might have studied in the reading assignments, genome assembly can get quite complicated, as problems such as full sequence coverage, finding a good length for reads (the $k$ in $k$-mer), and sequencing errors present challenges for sequencing analysis and accuracy. You can assume perfect coverage for all parts of the assignment and no read errors for the first two questions.\n",
    "\n",
    "\n",
    "<b>Submission</b>: Please submit the code you wrote to generate your answers for all parts using this form: <a href=\"https://forms.gle/rNTXfYojTLEQ8idg6\"><em>https://forms.gle/rNTXfYojTLEQ8idg6</em></a>. Your answers should be in the Jupyter Notebook, along with your code. Before submission, you should make a copy of your notebook file with the name <i>uvaid1\\_uvaid2.ipynb</i> (where <i>uvaidn</i> is each teammates UVA id) so the submitted file identifies you. You and your partner should submit a single file once together. Submission is due 8:59 pm (EST) on Monday, September 5."
   ]
  },
  {
   "cell_type": "markdown",
   "id": "southwest-aaron",
   "metadata": {},
   "source": [
    "## Install basic required packages."
   ]
  },
  {
   "cell_type": "markdown",
   "id": "purple-thesaurus",
   "metadata": {},
   "source": [
    "- Install basic required packages, should be run only once. You may need to restart the kernel after this stage.\n",
    "- Make sure you have [graphviz](https://graphviz.org/download/) installed on your system.\n",
    "- The second cell adds Graphviz to your path, you may have to change based on where the install folder is.\n",
    "\n",
    "<b>NOTE: We provide utils.py, which may contain helpful functions for you to use, as well as gvmagic.py, which is a deprecated package to use graphviz within the notebook</b>"
   ]
  },
  {
   "cell_type": "code",
   "execution_count": 79,
   "id": "copyrighted-kingdom",
   "metadata": {},
   "outputs": [
    {
     "name": "stdout",
     "output_type": "stream",
     "text": [
      "Requirement already satisfied: numpy in c:\\programdata\\miniconda\\lib\\site-packages (from -r requirements.txt (line 1)) (1.23.2)\n",
      "Requirement already satisfied: matplotlib in c:\\programdata\\miniconda\\lib\\site-packages (from -r requirements.txt (line 2)) (3.5.3)\n",
      "Requirement already satisfied: pydot in c:\\programdata\\miniconda\\lib\\site-packages (from -r requirements.txt (line 3)) (1.4.2)\n",
      "Requirement already satisfied: graphviz in c:\\programdata\\miniconda\\lib\\site-packages (from -r requirements.txt (line 4)) (0.20.1)\n",
      "Requirement already satisfied: kiwisolver>=1.0.1 in c:\\programdata\\miniconda\\lib\\site-packages (from matplotlib->-r requirements.txt (line 2)) (1.4.4)\n",
      "Requirement already satisfied: fonttools>=4.22.0 in c:\\programdata\\miniconda\\lib\\site-packages (from matplotlib->-r requirements.txt (line 2)) (4.37.1)\n",
      "Requirement already satisfied: python-dateutil>=2.7 in c:\\programdata\\miniconda\\lib\\site-packages (from matplotlib->-r requirements.txt (line 2)) (2.8.2)\n",
      "Requirement already satisfied: pyparsing>=2.2.1 in c:\\programdata\\miniconda\\lib\\site-packages (from matplotlib->-r requirements.txt (line 2)) (3.0.9)\n",
      "Requirement already satisfied: cycler>=0.10 in c:\\programdata\\miniconda\\lib\\site-packages (from matplotlib->-r requirements.txt (line 2)) (0.11.0)\n",
      "Requirement already satisfied: pillow>=6.2.0 in c:\\programdata\\miniconda\\lib\\site-packages (from matplotlib->-r requirements.txt (line 2)) (9.2.0)\n",
      "Requirement already satisfied: packaging>=20.0 in c:\\programdata\\miniconda\\lib\\site-packages (from matplotlib->-r requirements.txt (line 2)) (21.3)\n",
      "Requirement already satisfied: six>=1.5 in c:\\programdata\\miniconda\\lib\\site-packages (from python-dateutil>=2.7->matplotlib->-r requirements.txt (line 2)) (1.16.0)\n",
      "Note: you may need to restart the kernel to use updated packages.\n"
     ]
    }
   ],
   "source": [
    "%pip install -r requirements.txt"
   ]
  },
  {
   "cell_type": "code",
   "execution_count": 80,
   "id": "great-french",
   "metadata": {},
   "outputs": [],
   "source": [
    "import os\n",
    "os.environ[\"PATH\"] += os.pathsep + 'C:/Program Files/Graphviz/bin'"
   ]
  },
  {
   "cell_type": "markdown",
   "id": "intelligent-realtor",
   "metadata": {},
   "source": [
    "## Genome Assembly\n",
    "\n",
    "For this part, you're given reads generated while trying to sequence the DNA of a TeleTubby (some unknown organism) with a \\textit{very} small genetic code. By answering the following questions, you will learn how to assemble the original genome sequence from sequence reads.\n",
    "\n",
    "Sequencing data is often stored in FASTQ file format. In TeleTubby.fastq, you will find the data organized in a particular order that repeats every four lines. The first line contains the metadata that encodes the name of the read, the experiment type, the kind of sequencing machine used, etc. The second line is the sequence of bases. The third line functions as a placeholder line. The fourth line is a sequence of base qualities that encode the qualities for the corresponding bases in the sequence line. We will only work with the sequence and quality score lines in this question."
   ]
  },
  {
   "cell_type": "code",
   "execution_count": 81,
   "id": "accessible-persian",
   "metadata": {},
   "outputs": [],
   "source": [
    "import collections\n",
    "import matplotlib.pyplot as plt\n",
    "import numpy as np\n",
    "import utils\n",
    "from tqdm import tqdm"
   ]
  },
  {
   "cell_type": "markdown",
   "id": "worthy-vietnam",
   "metadata": {},
   "source": [
    "#### Question 1.1.1 GC-content\n",
    "\n",
    "The GC-content (or the ratio of G and C nucleotides) is related to the melting temperature of the DNA double helix. Use the following equation to calculate the melting temperature of DNA for TeleTubby $t_m$ in Celsius:\n",
    "\n",
    "\\begin{equation*}\n",
    "t_m = 64.9+0.41(\\%GC)-\\frac{500}{\\text{length of sequence}}\n",
    "\\end{equation*}\n",
    "\n",
    "As a reference, the human genome is known to have between 35%-60% GC-content. "
   ]
  },
  {
   "cell_type": "code",
   "execution_count": 82,
   "id": "prescription-cartridge",
   "metadata": {},
   "outputs": [
    {
     "name": "stdout",
     "output_type": "stream",
     "text": [
      "84.34709897610922\n"
     ]
    }
   ],
   "source": [
    "import utils\n",
    "\n",
    "# Read sequence reads (error-free) from file\n",
    "sequence_reads, qualities = utils.read_fastq('TeleTubby.fastq')\n",
    "\n",
    "# Calculate %GC content\n",
    "sequence_length = 0\n",
    "GC_content = 0\n",
    "for i in range(len(sequence_reads)):\n",
    "    sequence_length += len(sequence_reads[i])\n",
    "    for nucleotide in sequence_reads[i]:\n",
    "        if nucleotide == \"G\" or nucleotide == \"C\":\n",
    "            GC_content += 1\n",
    "GC_content = GC_content / sequence_length * 100 \n",
    "\n",
    "# Print out temperature in Celsius\n",
    "tm = 64.9 + 0.41*GC_content - 500/sequence_length\n",
    "print(tm)"
   ]
  },
  {
   "cell_type": "markdown",
   "id": "refined-doctrine",
   "metadata": {},
   "source": [
    "#### Question 1.1.2 Interpreting quality scores"
   ]
  },
  {
   "cell_type": "markdown",
   "id": "circular-pottery",
   "metadata": {},
   "source": [
    "Phred33 quality scores are represented as the character with an ASCII code equal to its value + 33 (to make them easy to print alongside genome sequences). List the top 5 most frequent scores in ASCII symbol as well as their Phredd33 scores in TeleTubby.fastq. You can refer to the [official Illumina website](https://support.illumina.com/help/BaseSpace_OLH_009008/Content/Source/Informatics/BS/QualityScoreEncoding_swBS.htm) to reference the scoring encoding.\n",
    "\n",
    "What is the average Phred33 score in TeleTubby.fastq?"
   ]
  },
  {
   "cell_type": "code",
   "execution_count": 83,
   "id": "female-stand",
   "metadata": {},
   "outputs": [
    {
     "name": "stdout",
     "output_type": "stream",
     "text": [
      "Average Phred33 Score:\n",
      "34.476535836177476\n",
      "Top 5 Most Frequent Scores:\n",
      "5 20\n",
      "D 35\n",
      "F 37\n",
      "O 46\n",
      "< 27\n"
     ]
    }
   ],
   "source": [
    "# Calculate and print average Phred33 score\n",
    "char_dictionary = {}\n",
    "\n",
    "sequence_reads, qualities = utils.read_fastq('TeleTubby.fastq')\n",
    "\n",
    "for i in range(len(qualities)):\n",
    "    for score in qualities[i]:\n",
    "        if score in char_dictionary:\n",
    "            char_dictionary[score][1] += 1\n",
    "        else:\n",
    "            char_dictionary[score] = [ord(score)-33, 1]\n",
    "\n",
    "# Average calculation\n",
    "sum_of_scores = 0\n",
    "num_of_scores = 0\n",
    "for char in char_dictionary.keys():\n",
    "    sum_of_scores += char_dictionary[char][0] * char_dictionary[char][1]\n",
    "    num_of_scores += char_dictionary[char][1]\n",
    "\n",
    "average = sum_of_scores / num_of_scores\n",
    "print(\"Average Phred33 Score:\")\n",
    "print(average)\n",
    "\n",
    "# Top 5 \n",
    "count = 0\n",
    "print(\"Top 5 Most Frequent Scores:\")\n",
    "while count < 5:\n",
    "    frequent = [\"\", 0, 0]\n",
    "    for char in char_dictionary.keys():\n",
    "        if char_dictionary[char][1] > frequent[1]:\n",
    "            frequent[0] = char\n",
    "            frequent[1] = char_dictionary[char][1]\n",
    "            frequent[2] = char_dictionary[char][0]\n",
    "            char_dictionary[char][1] = -1\n",
    "    print(frequent[0], frequent[2])\n",
    "    count += 1"
   ]
  },
  {
   "cell_type": "markdown",
   "id": "important-membrane",
   "metadata": {},
   "source": [
    "#### Question 1.1.3 Frequency analysis\n",
    "\n",
    "Looking at repetitions in the sequence can be helpful in estimating the \"redudancy\" in the organisms. Humand and other evolved animals have a lot of redundancy, while smaller organisms like bacteria have highly packed genomes. One heuristic to estimate this before actually performing the assembly could be looking at how often certain $k$-mers are repeated.\n",
    "\n",
    "<b>Print out the 3 most frequent k-mers with their frequencies</b>"
   ]
  },
  {
   "cell_type": "code",
   "execution_count": 84,
   "id": "therapeutic-resolution",
   "metadata": {
    "scrolled": true
   },
   "outputs": [
    {
     "name": "stdout",
     "output_type": "stream",
     "text": [
      "['GCTATCGC', 3]\n",
      "['TATCGCAA', 2]\n",
      "['CTATCGCA', 2]\n"
     ]
    }
   ],
   "source": [
    "# Find and print out the three most repeated k-mers and their frequencies\n",
    "sequence_reads, qualities = utils.read_fastq('TeleTubby.fastq')\n",
    "\n",
    "kmer_dict = {}\n",
    "\n",
    "for read in sequence_reads:\n",
    "    if read in kmer_dict:\n",
    "        kmer_dict[read] += 1\n",
    "    else:\n",
    "        kmer_dict[read] = 1\n",
    "        \n",
    "count = 0\n",
    "while count < 3:\n",
    "    frequent = [\"\", 0]\n",
    "    for kmer in kmer_dict.keys():\n",
    "        if kmer_dict[kmer] > frequent[1]:\n",
    "            frequent[0] = kmer\n",
    "            frequent[1] = kmer_dict[kmer]\n",
    "            kmer_dict[kmer] = -1\n",
    "    print(frequent)\n",
    "    count += 1     "
   ]
  },
  {
   "cell_type": "markdown",
   "id": "passing-stocks",
   "metadata": {},
   "source": [
    "### Question 1.2. Greedy approach"
   ]
  },
  {
   "cell_type": "markdown",
   "id": "impressive-topic",
   "metadata": {},
   "source": [
    "One of the approaches to assemble the genome from the given reads is a greedy algorithm. Have a look at the greedy algorithm described on [Wikipedia](https://en.wikipedia.org/wiki/Sequence_assembly#Greedy_algorithm) and answer the following."
   ]
  },
  {
   "cell_type": "markdown",
   "id": "engaging-inclusion",
   "metadata": {},
   "source": [
    "#### Question 1.2.1 What would the runtime be of this algorithm, given $n$ $k$-mer reads?"
   ]
  },
  {
   "cell_type": "markdown",
   "id": "controlled-wrong",
   "metadata": {},
   "source": [
    "<i>Answer</i>:"
   ]
  },
  {
   "cell_type": "markdown",
   "id": "handmade-title",
   "metadata": {},
   "source": [
    "#### Question 1.2.2 Would this algorithm always yield a unique solution?"
   ]
  },
  {
   "cell_type": "markdown",
   "id": "sweet-arrow",
   "metadata": {},
   "source": [
    "<i>Answer</i>:"
   ]
  },
  {
   "cell_type": "markdown",
   "id": "expanded-backup",
   "metadata": {},
   "source": [
    "#### Question 1.2.3 Would this algorithm always yield the <i>right</i> solution?"
   ]
  },
  {
   "cell_type": "markdown",
   "id": "external-czech",
   "metadata": {},
   "source": [
    "<i>Answer</i>:"
   ]
  },
  {
   "cell_type": "markdown",
   "id": "personal-peninsula",
   "metadata": {},
   "source": [
    "### Question 1.3 Graph-based approaches"
   ]
  },
  {
   "cell_type": "markdown",
   "id": "dimensional-rebecca",
   "metadata": {},
   "source": [
    "Graphs for genome assembly can be constructed in two ways:\n",
    "\n",
    "- de Bruijn graph: Processing $k-$mers as edges, with $(k-1)-$mers as nodes, and\n",
    "- Overlap graph: Processing $k-$mers as nodes, with $(k-1)-$mers as edges.\n",
    "\n",
    "de Bruijn graphs can be processed to find Euler paths, while Overlap graphs can be processed to find Hamiltonian paths. Both of these are valid ways to reconstruct the original genome.\n",
    "\n",
    "<b>Use one of these two techniques to reconstruct the sequence, and print out your reconstructed sequence. Which method did you pick out of the two, and why? (hint: imagine what would happen when we have millions of reads). Use the k-mers provided in TeleTubby.fastq</b>.\n",
    "\n",
    "We provide some skeleton code that you may use, but you may also come up with your own solution."
   ]
  },
  {
   "cell_type": "code",
   "execution_count": 86,
   "id": "round-greensboro",
   "metadata": {},
   "outputs": [],
   "source": [
    "# Read reads into graph\n",
    "\n",
    "def build_graph(k_mers):\n",
    "    edges = []\n",
    "    nodes = set()\n",
    "    matrix = {}\n",
    "    outdegrees = {}\n",
    "    indegrees = {}\n",
    "    # Your code here\n",
    "    for sequence in sequence_reads:\n",
    "        edges.append(sequence)\n",
    "        prefix = sequence[:-1]\n",
    "        suffix = sequence[1:]\n",
    "        nodes.add(prefix)\n",
    "        nodes.add(suffix)\n",
    "\n",
    "        if prefix not in matrix:\n",
    "            matrix[prefix] = {}\n",
    "            outdegrees[prefix] = 0\n",
    "\n",
    "        if suffix not in indegrees:\n",
    "            indegrees[suffix] = 0\n",
    "\n",
    "        # Adds to adjacency matrix\n",
    "        matrix[prefix][suffix] = sequence\n",
    "        outdegrees[prefix] += 1\n",
    "        indegrees[suffix] += 1\n",
    "        \n",
    "            \n",
    "    return nodes, edges, matrix, outdegrees, indegrees\n",
    "\n",
    "nodes, edges, matrix, outdegrees, indegrees = build_graph(sequence_reads)"
   ]
  },
  {
   "cell_type": "code",
   "execution_count": 87,
   "id": "747b0873",
   "metadata": {},
   "outputs": [],
   "source": [
    "# Identify start node: outgoing edges is more than incoming\n",
    "start = None\n",
    "end = None\n",
    "\n",
    "for subseq in nodes:\n",
    "    diff = outdegrees.get(subseq,0) - indegrees.get(subseq, 0)\n",
    "    if diff == 1:\n",
    "        start = subseq\n",
    "    elif diff == -1:\n",
    "        end = subseq"
   ]
  },
  {
   "cell_type": "code",
   "execution_count": 141,
   "id": "51122625",
   "metadata": {},
   "outputs": [],
   "source": [
    "# Hierholzer's algorithm\n",
    "visited = set()\n",
    "path = []\n",
    "\n",
    "def dfs(v):\n",
    "    v_edges = list(matrix.get(v, {}).values())\n",
    "    v_edges_unvisited = [_ for _ in v_edges if _ not in visited]\n",
    "\n",
    "    while (v_edges_unvisited):\n",
    "        edge = v_edges_unvisited.pop()\n",
    "        visited.add(edge)\n",
    "        v2 = edge[1:]\n",
    "        dfs(v2)\n",
    "    \n",
    "    path.append(v)"
   ]
  },
  {
   "cell_type": "code",
   "execution_count": 144,
   "id": "83adcc70",
   "metadata": {},
   "outputs": [
    {
     "data": {
      "text/plain": [
       "289"
      ]
     },
     "execution_count": 144,
     "metadata": {},
     "output_type": "execute_result"
    }
   ],
   "source": [
    "len(path)"
   ]
  },
  {
   "cell_type": "code",
   "execution_count": 145,
   "id": "e8835d77",
   "metadata": {},
   "outputs": [
    {
     "data": {
      "text/plain": [
       "Counter({'CAATGTT': 1,\n",
       "         'GCAATGT': 1,\n",
       "         'TGCAATG': 1,\n",
       "         'ATGCAAT': 1,\n",
       "         'GATGCAA': 1,\n",
       "         'CGATGCA': 1,\n",
       "         'TCGATGC': 1,\n",
       "         'TTCGATG': 1,\n",
       "         'CTTCGAT': 1,\n",
       "         'CCTTCGA': 1,\n",
       "         'CCCTTCG': 1,\n",
       "         'GCCCTTC': 1,\n",
       "         'CGCCCTT': 1,\n",
       "         'CCGCCCT': 1,\n",
       "         'GCCGCCC': 1,\n",
       "         'TGCCGCC': 1,\n",
       "         'GTGCCGC': 1,\n",
       "         'GGTGCCG': 1,\n",
       "         'TGGTGCC': 1,\n",
       "         'CTGGTGC': 1,\n",
       "         'ACTGGTG': 1,\n",
       "         'TACTGGT': 1,\n",
       "         'CTACTGG': 1,\n",
       "         'GCTACTG': 1,\n",
       "         'CGCTACT': 1,\n",
       "         'TCGCTAC': 1,\n",
       "         'ATCGCTA': 1,\n",
       "         'GCTATCG': 2,\n",
       "         'CGCTATC': 2,\n",
       "         'GCGCTAT': 1,\n",
       "         'GGCGCTA': 1,\n",
       "         'AGGCGCT': 1,\n",
       "         'GAGGCGC': 1,\n",
       "         'GGAGGCG': 1,\n",
       "         'CGGAGGC': 1,\n",
       "         'CCGGAGG': 1,\n",
       "         'CCCGGAG': 1,\n",
       "         'GCCCGGA': 1,\n",
       "         'TGCCCGG': 1,\n",
       "         'CTGCCCG': 1,\n",
       "         'GCTGCCC': 1,\n",
       "         'CGCTGCC': 1,\n",
       "         'TCGCTGC': 1,\n",
       "         'ATCGCTG': 1,\n",
       "         'TATCGCT': 2,\n",
       "         'CCGCTAT': 1,\n",
       "         'TCCGCTA': 1,\n",
       "         'ATCCGCT': 1,\n",
       "         'CATCCGC': 1,\n",
       "         'ACATCCG': 1,\n",
       "         'CACATCC': 1,\n",
       "         'GCACATC': 1,\n",
       "         'TGCACAT': 1,\n",
       "         'GTGCACA': 1,\n",
       "         'GGTGCAC': 1,\n",
       "         'TGGTGCA': 1,\n",
       "         'ATGGTGC': 1,\n",
       "         'TATGGTG': 1,\n",
       "         'GTATGGT': 1,\n",
       "         'AGTATGG': 1,\n",
       "         'GAGTATG': 1,\n",
       "         'GGAGTAT': 1,\n",
       "         'GGGAGTA': 1,\n",
       "         'TGGGAGT': 1,\n",
       "         'GTGGGAG': 1,\n",
       "         'AGTGGGA': 1,\n",
       "         'AAGTGGG': 1,\n",
       "         'AAAGTGG': 1,\n",
       "         'AAAAGTG': 1,\n",
       "         'AAAAAGT': 1,\n",
       "         'AAAAAAG': 1,\n",
       "         'AAAAAAA': 1,\n",
       "         'CAAAAAA': 1,\n",
       "         'GCAAAAA': 1,\n",
       "         'AGCAAAA': 1,\n",
       "         'GAGCAAA': 1,\n",
       "         'TGAGCAA': 1,\n",
       "         'ATGAGCA': 1,\n",
       "         'CATGAGC': 1,\n",
       "         'TCATGAG': 1,\n",
       "         'TTCATGA': 1,\n",
       "         'TTTCATG': 1,\n",
       "         'CTTTCAT': 1,\n",
       "         'TCTTTCA': 1,\n",
       "         'CTCTTTC': 1,\n",
       "         'ACTCTTT': 1,\n",
       "         'GACTCTT': 1,\n",
       "         'GGACTCT': 1,\n",
       "         'CGGACTC': 1,\n",
       "         'TCGGACT': 1,\n",
       "         'GTCGGAC': 1,\n",
       "         'TGTCGGA': 1,\n",
       "         'CTGTCGG': 1,\n",
       "         'ACTGTCG': 1,\n",
       "         'GACTGTC': 1,\n",
       "         'CGACTGT': 1,\n",
       "         'CCGACTG': 1,\n",
       "         'ACCGACT': 1,\n",
       "         'AACCGAC': 1,\n",
       "         'AAACCGA': 1,\n",
       "         'CAAACCG': 1,\n",
       "         'GCAAACC': 1,\n",
       "         'CGCAAAC': 1,\n",
       "         'TCGCAAA': 1,\n",
       "         'ATATCGC': 1,\n",
       "         'CATATCG': 1,\n",
       "         'ACATATC': 1,\n",
       "         'GACATAT': 1,\n",
       "         'CGACATA': 1,\n",
       "         'TCGACAT': 1,\n",
       "         'ATCGACA': 1,\n",
       "         'TATCGAC': 1,\n",
       "         'GTATCGA': 1,\n",
       "         'GGTATCG': 1,\n",
       "         'TGGTATC': 1,\n",
       "         'ATGGTAT': 1,\n",
       "         'CATGGTA': 1,\n",
       "         'TCATGGT': 1,\n",
       "         'GTCATGG': 1,\n",
       "         'TGTCATG': 1,\n",
       "         'CTGTCAT': 1,\n",
       "         'GCTGTCA': 1,\n",
       "         'CGCTGTC': 1,\n",
       "         'TCGCTGT': 1,\n",
       "         'CTCGCTG': 1,\n",
       "         'ACTCGCT': 1,\n",
       "         'CACTCGC': 1,\n",
       "         'ACACTCG': 1,\n",
       "         'AACACTC': 1,\n",
       "         'AAACACT': 1,\n",
       "         'CAAACAC': 1,\n",
       "         'CCAAACA': 1,\n",
       "         'GCCAAAC': 1,\n",
       "         'AGCCAAA': 1,\n",
       "         'GAGCCAA': 1,\n",
       "         'GGAGCCA': 1,\n",
       "         'AGGAGCC': 1,\n",
       "         'CAGGAGC': 1,\n",
       "         'ACAGGAG': 1,\n",
       "         'TACAGGA': 1,\n",
       "         'TTACAGG': 1,\n",
       "         'ATTACAG': 1,\n",
       "         'AATTACA': 1,\n",
       "         'GAATTAC': 1,\n",
       "         'AGAATTA': 1,\n",
       "         'AAGAATT': 1,\n",
       "         'CAAGAAT': 1,\n",
       "         'ACAAGAA': 1,\n",
       "         'TACAAGA': 1,\n",
       "         'TTACAAG': 1,\n",
       "         'TTTACAA': 1,\n",
       "         'CTTTACA': 1,\n",
       "         'TCTTTAC': 1,\n",
       "         'CTCTTTA': 1,\n",
       "         'TCTCTTT': 1,\n",
       "         'ATCTCTT': 1,\n",
       "         'CATCTCT': 1,\n",
       "         'GCATCTC': 1,\n",
       "         'TGCATCT': 1,\n",
       "         'ATGCATC': 1,\n",
       "         'CATGCAT': 1,\n",
       "         'TCATGCA': 1,\n",
       "         'TTCATGC': 1,\n",
       "         'CTTCATG': 1,\n",
       "         'TCTTCAT': 1,\n",
       "         'TTCTTCA': 1,\n",
       "         'TTTCTTC': 1,\n",
       "         'GTTTCTT': 1,\n",
       "         'AGTTTCT': 1,\n",
       "         'CAGTTTC': 1,\n",
       "         'GCAGTTT': 1,\n",
       "         'AGCAGTT': 1,\n",
       "         'TAGCAGT': 1,\n",
       "         'TTAGCAG': 1,\n",
       "         'GTTAGCA': 1,\n",
       "         'TGTTAGC': 1,\n",
       "         'GTGTTAG': 1,\n",
       "         'TGTGTTA': 1,\n",
       "         'TTGTGTT': 1,\n",
       "         'TTTGTGT': 1,\n",
       "         'TTTTGTG': 1,\n",
       "         'GTTTTGT': 1,\n",
       "         'GGTTTTG': 1,\n",
       "         'GGGTTTT': 1,\n",
       "         'GGGGTTT': 1,\n",
       "         'AGGGGTT': 1,\n",
       "         'AAGGGGT': 1,\n",
       "         'GAAGGGG': 1,\n",
       "         'AGAAGGG': 1,\n",
       "         'GAGAAGG': 1,\n",
       "         'AGAGAAG': 1,\n",
       "         'GAGAGAA': 1,\n",
       "         'AGAGAGA': 1,\n",
       "         'AAGAGAG': 1,\n",
       "         'TAAGAGA': 1,\n",
       "         'CTAAGAG': 1,\n",
       "         'CCTAAGA': 1,\n",
       "         'ACCTAAG': 1,\n",
       "         'AACCTAA': 1,\n",
       "         'CAACCTA': 1,\n",
       "         'GCAACCT': 1,\n",
       "         'CGCAACC': 1,\n",
       "         'TCGCAAC': 1,\n",
       "         'ATCGCAA': 1,\n",
       "         'TATCGCA': 1,\n",
       "         'CTATCGC': 1,\n",
       "         'TGCTATC': 1,\n",
       "         'GTGCTAT': 1,\n",
       "         'TGTGCTA': 1,\n",
       "         'TTGTGCT': 1,\n",
       "         'TTTGTGC': 1,\n",
       "         'ATTTGTG': 1,\n",
       "         'GATTTGT': 1,\n",
       "         'AGATTTG': 1,\n",
       "         'GAGATTT': 1,\n",
       "         'AGAGATT': 1,\n",
       "         'GAGAGAT': 1,\n",
       "         'CGAGAGA': 1,\n",
       "         'TCGAGAG': 1,\n",
       "         'GTCGAGA': 1,\n",
       "         'TGTCGAG': 1,\n",
       "         'ATGTCGA': 1,\n",
       "         'AATGTCG': 1,\n",
       "         'CAATGTC': 1,\n",
       "         'CCAATGT': 1,\n",
       "         'GCCAATG': 1,\n",
       "         'CGCCAAT': 1,\n",
       "         'CCGCCAA': 1,\n",
       "         'CCCGCCA': 1,\n",
       "         'GCCCGCC': 1,\n",
       "         'TGCCCGC': 1,\n",
       "         'GTGCCCG': 1,\n",
       "         'CGTGCCC': 1,\n",
       "         'TCGTGCC': 1,\n",
       "         'CTCGTGC': 1,\n",
       "         'TCTCGTG': 1,\n",
       "         'TTCTCGT': 1,\n",
       "         'TTTCTCG': 1,\n",
       "         'GTTTCTC': 1,\n",
       "         'TGTTTCT': 1,\n",
       "         'TTGTTTC': 1,\n",
       "         'GTTGTTT': 1,\n",
       "         'TGTTGTT': 1,\n",
       "         'ATGTTGT': 1,\n",
       "         'CATGTTG': 1,\n",
       "         'ACATGTT': 1,\n",
       "         'TACATGT': 1,\n",
       "         'CTACATG': 1,\n",
       "         'ACTACAT': 1,\n",
       "         'TACTACA': 1,\n",
       "         'GTACTAC': 1,\n",
       "         'TGTACTA': 1,\n",
       "         'ATGTACT': 1,\n",
       "         'TATGTAC': 1,\n",
       "         'TTATGTA': 1,\n",
       "         'CTTATGT': 1,\n",
       "         'ACTTATG': 1,\n",
       "         'AACTTAT': 1,\n",
       "         'CAACTTA': 1,\n",
       "         'ACAACTT': 1,\n",
       "         'AACAACT': 1,\n",
       "         'TAACAAC': 1,\n",
       "         'ATAACAA': 1,\n",
       "         'GATAACA': 1,\n",
       "         'GGATAAC': 1,\n",
       "         'AGGATAA': 1,\n",
       "         'CAGGATA': 1,\n",
       "         'GCAGGAT': 1,\n",
       "         'CGCAGGA': 1,\n",
       "         'GCGCAGG': 1,\n",
       "         'TGCGCAG': 1,\n",
       "         'ATGCGCA': 1,\n",
       "         'AATGCGC': 1,\n",
       "         'CAATGCG': 1,\n",
       "         'GCAATGC': 1,\n",
       "         'AGCAATG': 1,\n",
       "         'TAGCAAT': 1,\n",
       "         'ATAGCAA': 1,\n",
       "         'AATAGCA': 1,\n",
       "         'AAATAGC': 1,\n",
       "         'CAAATAG': 1,\n",
       "         'CCAAATA': 1,\n",
       "         'GCCAAAT': 1,\n",
       "         'CGCCAAA': 1,\n",
       "         'ACGCCAA': 1,\n",
       "         'TACGCCA': 1})"
      ]
     },
     "execution_count": 145,
     "metadata": {},
     "output_type": "execute_result"
    }
   ],
   "source": [
    "from collections import Counter\n",
    "Counter(path)"
   ]
  },
  {
   "cell_type": "code",
   "execution_count": 143,
   "id": "8eb46540",
   "metadata": {},
   "outputs": [
    {
     "name": "stdout",
     "output_type": "stream",
     "text": [
      "Nodes missing from path:  set()\n"
     ]
    }
   ],
   "source": [
    "dfs(start)\n",
    "print(\"Nodes missing from path: \", nodes ^ set(path)) # Should be empty"
   ]
  },
  {
   "cell_type": "code",
   "execution_count": 120,
   "id": "vietnamese-pound",
   "metadata": {},
   "outputs": [
    {
     "name": "stdout",
     "output_type": "stream",
     "text": [
      "Sequence of k-1 mers\n"
     ]
    },
    {
     "data": {
      "text/plain": [
       "['CAATGTT',\n",
       " 'GCAATGT',\n",
       " 'TGCAATG',\n",
       " 'ATGCAAT',\n",
       " 'GATGCAA',\n",
       " 'CGATGCA',\n",
       " 'TCGATGC',\n",
       " 'TTCGATG',\n",
       " 'CTTCGAT',\n",
       " 'CCTTCGA',\n",
       " 'CCCTTCG',\n",
       " 'GCCCTTC',\n",
       " 'CGCCCTT',\n",
       " 'CCGCCCT',\n",
       " 'GCCGCCC',\n",
       " 'TGCCGCC',\n",
       " 'GTGCCGC',\n",
       " 'GGTGCCG',\n",
       " 'TGGTGCC',\n",
       " 'CTGGTGC',\n",
       " 'ACTGGTG',\n",
       " 'TACTGGT',\n",
       " 'CTACTGG',\n",
       " 'GCTACTG',\n",
       " 'CGCTACT',\n",
       " 'TCGCTAC',\n",
       " 'ATCGCTA',\n",
       " 'GCTATCG',\n",
       " 'CGCTATC',\n",
       " 'GCGCTAT',\n",
       " 'GGCGCTA',\n",
       " 'AGGCGCT',\n",
       " 'GAGGCGC',\n",
       " 'GGAGGCG',\n",
       " 'CGGAGGC',\n",
       " 'CCGGAGG',\n",
       " 'CCCGGAG',\n",
       " 'GCCCGGA',\n",
       " 'TGCCCGG',\n",
       " 'CTGCCCG',\n",
       " 'GCTGCCC',\n",
       " 'CGCTGCC',\n",
       " 'TCGCTGC',\n",
       " 'ATCGCTG',\n",
       " 'TATCGCT',\n",
       " 'CGCTATC',\n",
       " 'CCGCTAT',\n",
       " 'TCCGCTA',\n",
       " 'ATCCGCT',\n",
       " 'CATCCGC',\n",
       " 'ACATCCG',\n",
       " 'CACATCC',\n",
       " 'GCACATC',\n",
       " 'TGCACAT',\n",
       " 'GTGCACA',\n",
       " 'GGTGCAC',\n",
       " 'TGGTGCA',\n",
       " 'ATGGTGC',\n",
       " 'TATGGTG',\n",
       " 'GTATGGT',\n",
       " 'AGTATGG',\n",
       " 'GAGTATG',\n",
       " 'GGAGTAT',\n",
       " 'GGGAGTA',\n",
       " 'TGGGAGT',\n",
       " 'GTGGGAG',\n",
       " 'AGTGGGA',\n",
       " 'AAGTGGG',\n",
       " 'AAAGTGG',\n",
       " 'AAAAGTG',\n",
       " 'AAAAAGT',\n",
       " 'AAAAAAG',\n",
       " 'AAAAAAA',\n",
       " 'CAAAAAA',\n",
       " 'GCAAAAA',\n",
       " 'AGCAAAA',\n",
       " 'GAGCAAA',\n",
       " 'TGAGCAA',\n",
       " 'ATGAGCA',\n",
       " 'CATGAGC',\n",
       " 'TCATGAG',\n",
       " 'TTCATGA',\n",
       " 'TTTCATG',\n",
       " 'CTTTCAT',\n",
       " 'TCTTTCA',\n",
       " 'CTCTTTC',\n",
       " 'ACTCTTT',\n",
       " 'GACTCTT',\n",
       " 'GGACTCT',\n",
       " 'CGGACTC',\n",
       " 'TCGGACT',\n",
       " 'GTCGGAC',\n",
       " 'TGTCGGA',\n",
       " 'CTGTCGG',\n",
       " 'ACTGTCG',\n",
       " 'GACTGTC',\n",
       " 'CGACTGT',\n",
       " 'CCGACTG',\n",
       " 'ACCGACT',\n",
       " 'AACCGAC',\n",
       " 'AAACCGA',\n",
       " 'CAAACCG',\n",
       " 'GCAAACC',\n",
       " 'CGCAAAC',\n",
       " 'TCGCAAA',\n",
       " 'TATCGCT',\n",
       " 'ATATCGC',\n",
       " 'CATATCG',\n",
       " 'ACATATC',\n",
       " 'GACATAT',\n",
       " 'CGACATA',\n",
       " 'TCGACAT',\n",
       " 'ATCGACA',\n",
       " 'TATCGAC',\n",
       " 'GTATCGA',\n",
       " 'GGTATCG',\n",
       " 'TGGTATC',\n",
       " 'ATGGTAT',\n",
       " 'CATGGTA',\n",
       " 'TCATGGT',\n",
       " 'GTCATGG',\n",
       " 'TGTCATG',\n",
       " 'CTGTCAT',\n",
       " 'GCTGTCA',\n",
       " 'CGCTGTC',\n",
       " 'TCGCTGT',\n",
       " 'CTCGCTG',\n",
       " 'ACTCGCT',\n",
       " 'CACTCGC',\n",
       " 'ACACTCG',\n",
       " 'AACACTC',\n",
       " 'AAACACT',\n",
       " 'CAAACAC',\n",
       " 'CCAAACA',\n",
       " 'GCCAAAC',\n",
       " 'AGCCAAA',\n",
       " 'GAGCCAA',\n",
       " 'GGAGCCA',\n",
       " 'AGGAGCC',\n",
       " 'CAGGAGC',\n",
       " 'ACAGGAG',\n",
       " 'TACAGGA',\n",
       " 'TTACAGG',\n",
       " 'ATTACAG',\n",
       " 'AATTACA',\n",
       " 'GAATTAC',\n",
       " 'AGAATTA',\n",
       " 'AAGAATT',\n",
       " 'CAAGAAT',\n",
       " 'ACAAGAA',\n",
       " 'TACAAGA',\n",
       " 'TTACAAG',\n",
       " 'TTTACAA',\n",
       " 'CTTTACA',\n",
       " 'TCTTTAC',\n",
       " 'CTCTTTA',\n",
       " 'TCTCTTT',\n",
       " 'ATCTCTT',\n",
       " 'CATCTCT',\n",
       " 'GCATCTC',\n",
       " 'TGCATCT',\n",
       " 'ATGCATC',\n",
       " 'CATGCAT',\n",
       " 'TCATGCA',\n",
       " 'TTCATGC',\n",
       " 'CTTCATG',\n",
       " 'TCTTCAT',\n",
       " 'TTCTTCA',\n",
       " 'TTTCTTC',\n",
       " 'GTTTCTT',\n",
       " 'AGTTTCT',\n",
       " 'CAGTTTC',\n",
       " 'GCAGTTT',\n",
       " 'AGCAGTT',\n",
       " 'TAGCAGT',\n",
       " 'TTAGCAG',\n",
       " 'GTTAGCA',\n",
       " 'TGTTAGC',\n",
       " 'GTGTTAG',\n",
       " 'TGTGTTA',\n",
       " 'TTGTGTT',\n",
       " 'TTTGTGT',\n",
       " 'TTTTGTG',\n",
       " 'GTTTTGT',\n",
       " 'GGTTTTG',\n",
       " 'GGGTTTT',\n",
       " 'GGGGTTT',\n",
       " 'AGGGGTT',\n",
       " 'AAGGGGT',\n",
       " 'GAAGGGG',\n",
       " 'AGAAGGG',\n",
       " 'GAGAAGG',\n",
       " 'AGAGAAG',\n",
       " 'GAGAGAA',\n",
       " 'AGAGAGA',\n",
       " 'AAGAGAG',\n",
       " 'TAAGAGA',\n",
       " 'CTAAGAG',\n",
       " 'CCTAAGA',\n",
       " 'ACCTAAG',\n",
       " 'AACCTAA',\n",
       " 'CAACCTA',\n",
       " 'GCAACCT',\n",
       " 'CGCAACC',\n",
       " 'TCGCAAC',\n",
       " 'ATCGCAA',\n",
       " 'TATCGCA',\n",
       " 'CTATCGC',\n",
       " 'GCTATCG',\n",
       " 'TGCTATC',\n",
       " 'GTGCTAT',\n",
       " 'TGTGCTA',\n",
       " 'TTGTGCT',\n",
       " 'TTTGTGC',\n",
       " 'ATTTGTG',\n",
       " 'GATTTGT',\n",
       " 'AGATTTG',\n",
       " 'GAGATTT',\n",
       " 'AGAGATT',\n",
       " 'GAGAGAT',\n",
       " 'CGAGAGA',\n",
       " 'TCGAGAG',\n",
       " 'GTCGAGA',\n",
       " 'TGTCGAG',\n",
       " 'ATGTCGA',\n",
       " 'AATGTCG',\n",
       " 'CAATGTC',\n",
       " 'CCAATGT',\n",
       " 'GCCAATG',\n",
       " 'CGCCAAT',\n",
       " 'CCGCCAA',\n",
       " 'CCCGCCA',\n",
       " 'GCCCGCC',\n",
       " 'TGCCCGC',\n",
       " 'GTGCCCG',\n",
       " 'CGTGCCC',\n",
       " 'TCGTGCC',\n",
       " 'CTCGTGC',\n",
       " 'TCTCGTG',\n",
       " 'TTCTCGT',\n",
       " 'TTTCTCG',\n",
       " 'GTTTCTC',\n",
       " 'TGTTTCT',\n",
       " 'TTGTTTC',\n",
       " 'GTTGTTT',\n",
       " 'TGTTGTT',\n",
       " 'ATGTTGT',\n",
       " 'CATGTTG',\n",
       " 'ACATGTT',\n",
       " 'TACATGT',\n",
       " 'CTACATG',\n",
       " 'ACTACAT',\n",
       " 'TACTACA',\n",
       " 'GTACTAC',\n",
       " 'TGTACTA',\n",
       " 'ATGTACT',\n",
       " 'TATGTAC',\n",
       " 'TTATGTA',\n",
       " 'CTTATGT',\n",
       " 'ACTTATG',\n",
       " 'AACTTAT',\n",
       " 'CAACTTA',\n",
       " 'ACAACTT',\n",
       " 'AACAACT',\n",
       " 'TAACAAC',\n",
       " 'ATAACAA',\n",
       " 'GATAACA',\n",
       " 'GGATAAC',\n",
       " 'AGGATAA',\n",
       " 'CAGGATA',\n",
       " 'GCAGGAT',\n",
       " 'CGCAGGA',\n",
       " 'GCGCAGG',\n",
       " 'TGCGCAG',\n",
       " 'ATGCGCA',\n",
       " 'AATGCGC',\n",
       " 'CAATGCG',\n",
       " 'GCAATGC',\n",
       " 'AGCAATG',\n",
       " 'TAGCAAT',\n",
       " 'ATAGCAA',\n",
       " 'AATAGCA',\n",
       " 'AAATAGC',\n",
       " 'CAAATAG',\n",
       " 'CCAAATA',\n",
       " 'GCCAAAT',\n",
       " 'CGCCAAA',\n",
       " 'ACGCCAA',\n",
       " 'TACGCCA',\n",
       " 'TACGCCA']"
      ]
     },
     "execution_count": 120,
     "metadata": {},
     "output_type": "execute_result"
    }
   ],
   "source": [
    "# Print assembled sequence\n",
    "print(\"Sequence of k-1 mers\")\n",
    "path"
   ]
  },
  {
   "cell_type": "code",
   "execution_count": null,
   "id": "compact-kitty",
   "metadata": {},
   "outputs": [
    {
     "name": "stdout",
     "output_type": "stream",
     "text": [
      "The gvmagic extension is already loaded. To reload it, use:\n",
      "  %reload_ext gvmagic\n"
     ]
    }
   ],
   "source": [
    "# Needed to properly visualize graphs\n",
    "%load_ext gvmagic"
   ]
  },
  {
   "cell_type": "code",
   "execution_count": null,
   "id": "dental-birmingham",
   "metadata": {},
   "outputs": [
    {
     "ename": "NameError",
     "evalue": "name 'nodes_bruijn' is not defined",
     "output_type": "error",
     "traceback": [
      "\u001b[1;31m---------------------------------------------------------------------------\u001b[0m",
      "\u001b[1;31mNameError\u001b[0m                                 Traceback (most recent call last)",
      "\u001b[1;32mc:\\Users\\karti\\Documents\\Dev Projects\\CompBio\\Project-1-2022F\\project1.ipynb Cell 36'\u001b[0m in \u001b[0;36m<cell line: 2>\u001b[1;34m()\u001b[0m\n\u001b[0;32m      <a href='vscode-notebook-cell:/c%3A/Users/karti/Documents/Dev%20Projects/CompBio/Project-1-2022F/project1.ipynb#ch0000032?line=0'>1</a>\u001b[0m \u001b[39m# Helper function to visualize de Bruijn graphs\u001b[39;00m\n\u001b[1;32m----> <a href='vscode-notebook-cell:/c%3A/Users/karti/Documents/Dev%20Projects/CompBio/Project-1-2022F/project1.ipynb#ch0000032?line=1'>2</a>\u001b[0m get_ipython()\u001b[39m.\u001b[39;49mrun_line_magic(\u001b[39m'\u001b[39;49m\u001b[39mdotstr\u001b[39;49m\u001b[39m'\u001b[39;49m, \u001b[39m'\u001b[39;49m\u001b[39mutils.viz_debruijn(nodes_bruijn, edges_bruijn)\u001b[39;49m\u001b[39m'\u001b[39;49m)\n",
      "File \u001b[1;32mc:\\ProgramData\\Miniconda\\lib\\site-packages\\IPython\\core\\interactiveshell.py:2305\u001b[0m, in \u001b[0;36mInteractiveShell.run_line_magic\u001b[1;34m(self, magic_name, line, _stack_depth)\u001b[0m\n\u001b[0;32m   <a href='file:///c%3A/ProgramData/Miniconda/lib/site-packages/IPython/core/interactiveshell.py?line=2302'>2303</a>\u001b[0m     kwargs[\u001b[39m'\u001b[39m\u001b[39mlocal_ns\u001b[39m\u001b[39m'\u001b[39m] \u001b[39m=\u001b[39m \u001b[39mself\u001b[39m\u001b[39m.\u001b[39mget_local_scope(stack_depth)\n\u001b[0;32m   <a href='file:///c%3A/ProgramData/Miniconda/lib/site-packages/IPython/core/interactiveshell.py?line=2303'>2304</a>\u001b[0m \u001b[39mwith\u001b[39;00m \u001b[39mself\u001b[39m\u001b[39m.\u001b[39mbuiltin_trap:\n\u001b[1;32m-> <a href='file:///c%3A/ProgramData/Miniconda/lib/site-packages/IPython/core/interactiveshell.py?line=2304'>2305</a>\u001b[0m     result \u001b[39m=\u001b[39m fn(\u001b[39m*\u001b[39margs, \u001b[39m*\u001b[39m\u001b[39m*\u001b[39mkwargs)\n\u001b[0;32m   <a href='file:///c%3A/ProgramData/Miniconda/lib/site-packages/IPython/core/interactiveshell.py?line=2305'>2306</a>\u001b[0m \u001b[39mreturn\u001b[39;00m result\n",
      "File \u001b[1;32mc:\\Users\\karti\\Documents\\Dev Projects\\CompBio\\Project-1-2022F\\gvmagic.py:52\u001b[0m, in \u001b[0;36mGraphvizMagics.dotstr\u001b[1;34m(self, line)\u001b[0m\n\u001b[0;32m     <a href='file:///c%3A/Users/karti/Documents/Dev%20Projects/CompBio/Project-1-2022F/gvmagic.py?line=49'>50</a>\u001b[0m \u001b[39m@line_magic\u001b[39m\n\u001b[0;32m     <a href='file:///c%3A/Users/karti/Documents/Dev%20Projects/CompBio/Project-1-2022F/gvmagic.py?line=50'>51</a>\u001b[0m \u001b[39mdef\u001b[39;00m \u001b[39mdotstr\u001b[39m(\u001b[39mself\u001b[39m, line):\n\u001b[1;32m---> <a href='file:///c%3A/Users/karti/Documents/Dev%20Projects/CompBio/Project-1-2022F/gvmagic.py?line=51'>52</a>\u001b[0m     \u001b[39mself\u001b[39;49m\u001b[39m.\u001b[39;49m_from_str(line, \u001b[39m'\u001b[39;49m\u001b[39mdot\u001b[39;49m\u001b[39m'\u001b[39;49m)\n",
      "File \u001b[1;32mc:\\Users\\karti\\Documents\\Dev Projects\\CompBio\\Project-1-2022F\\gvmagic.py:152\u001b[0m, in \u001b[0;36mGraphvizMagics._from_str\u001b[1;34m(self, line, layout_engine)\u001b[0m\n\u001b[0;32m    <a href='file:///c%3A/Users/karti/Documents/Dev%20Projects/CompBio/Project-1-2022F/gvmagic.py?line=150'>151</a>\u001b[0m \u001b[39mdef\u001b[39;00m \u001b[39m_from_str\u001b[39m(\u001b[39mself\u001b[39m, line, layout_engine):\n\u001b[1;32m--> <a href='file:///c%3A/Users/karti/Documents/Dev%20Projects/CompBio/Project-1-2022F/gvmagic.py?line=151'>152</a>\u001b[0m     s \u001b[39m=\u001b[39m \u001b[39mself\u001b[39;49m\u001b[39m.\u001b[39;49mshell\u001b[39m.\u001b[39;49mev(line)\n\u001b[0;32m    <a href='file:///c%3A/Users/karti/Documents/Dev%20Projects/CompBio/Project-1-2022F/gvmagic.py?line=152'>153</a>\u001b[0m     data \u001b[39m=\u001b[39m run_graphviz(s, layout_engine)\n\u001b[0;32m    <a href='file:///c%3A/Users/karti/Documents/Dev%20Projects/CompBio/Project-1-2022F/gvmagic.py?line=153'>154</a>\u001b[0m     \u001b[39mif\u001b[39;00m data:\n",
      "File \u001b[1;32mc:\\ProgramData\\Miniconda\\lib\\site-packages\\IPython\\core\\interactiveshell.py:2692\u001b[0m, in \u001b[0;36mInteractiveShell.ev\u001b[1;34m(self, expr)\u001b[0m\n\u001b[0;32m   <a href='file:///c%3A/ProgramData/Miniconda/lib/site-packages/IPython/core/interactiveshell.py?line=2686'>2687</a>\u001b[0m \u001b[39m\"\"\"Evaluate python expression expr in user namespace.\u001b[39;00m\n\u001b[0;32m   <a href='file:///c%3A/ProgramData/Miniconda/lib/site-packages/IPython/core/interactiveshell.py?line=2687'>2688</a>\u001b[0m \n\u001b[0;32m   <a href='file:///c%3A/ProgramData/Miniconda/lib/site-packages/IPython/core/interactiveshell.py?line=2688'>2689</a>\u001b[0m \u001b[39mReturns the result of evaluation\u001b[39;00m\n\u001b[0;32m   <a href='file:///c%3A/ProgramData/Miniconda/lib/site-packages/IPython/core/interactiveshell.py?line=2689'>2690</a>\u001b[0m \u001b[39m\"\"\"\u001b[39;00m\n\u001b[0;32m   <a href='file:///c%3A/ProgramData/Miniconda/lib/site-packages/IPython/core/interactiveshell.py?line=2690'>2691</a>\u001b[0m \u001b[39mwith\u001b[39;00m \u001b[39mself\u001b[39m\u001b[39m.\u001b[39mbuiltin_trap:\n\u001b[1;32m-> <a href='file:///c%3A/ProgramData/Miniconda/lib/site-packages/IPython/core/interactiveshell.py?line=2691'>2692</a>\u001b[0m     \u001b[39mreturn\u001b[39;00m \u001b[39meval\u001b[39;49m(expr, \u001b[39mself\u001b[39;49m\u001b[39m.\u001b[39;49muser_global_ns, \u001b[39mself\u001b[39;49m\u001b[39m.\u001b[39;49muser_ns)\n",
      "File \u001b[1;32m<string>:1\u001b[0m, in \u001b[0;36m<module>\u001b[1;34m\u001b[0m\n",
      "\u001b[1;31mNameError\u001b[0m: name 'nodes_bruijn' is not defined"
     ]
    }
   ],
   "source": [
    "# Helper function to visualize de Bruijn graphs\n",
    "%dotstr utils.viz_debruijn(nodes_bruijn, edges_bruijn)"
   ]
  },
  {
   "cell_type": "code",
   "execution_count": null,
   "id": "blank-going",
   "metadata": {},
   "outputs": [],
   "source": [
    "# Main assembly algorithm\n",
    "\n",
    "def assemble_sequence(nodes, edges):\n",
    "    assembled_sequence = \"\"\n",
    "    # Your code here\n",
    "    return assembled_sequence"
   ]
  },
  {
   "cell_type": "code",
   "execution_count": null,
   "id": "expired-runner",
   "metadata": {},
   "outputs": [],
   "source": [
    "# Output assembled sequence\n",
    "\n",
    "assmebled_seq = assemble_sequence(nodes, edges)"
   ]
  },
  {
   "cell_type": "markdown",
   "id": "juvenile-questionnaire",
   "metadata": {},
   "source": [
    "## Question 2 - Sequencing SARS-CoV-2 virus"
   ]
  },
  {
   "cell_type": "markdown",
   "id": "seeing-biography",
   "metadata": {},
   "source": [
    "Let's move on from TeleTubbies to real-world organisms. Let's start small- with a variant of the SARS-CoV-2 virus. You're given reads from <i>actual</i> genome sequencing runs in the SARS-CoV2.fastq file provided.\n",
    "\n",
    "Repeat Question 1.3 on this data. You can re-use your implementation and simply run it on the new data. Print out your reconstructed sequence to a file \"output.txt\". For this part, we will still assume that all the reads are error-free. Set $k=25$."
   ]
  },
  {
   "cell_type": "code",
   "execution_count": null,
   "id": "legitimate-suspension",
   "metadata": {},
   "outputs": [],
   "source": [
    "# Read sequence reads\n",
    "sequence_reads_covid, qualities_covid = utils.read_fastq('SARS-CoV2.fastq')"
   ]
  },
  {
   "cell_type": "code",
   "execution_count": null,
   "id": "formal-newspaper",
   "metadata": {},
   "outputs": [],
   "source": [
    "# Read reads into graph\n",
    "nodes_covid, edges_covid = build_graph(sequence_reads_covid)"
   ]
  },
  {
   "cell_type": "code",
   "execution_count": null,
   "id": "miniature-advocate",
   "metadata": {},
   "outputs": [],
   "source": [
    "# Call main assembly algorithm\n",
    "assmebled_covid_seq = assemble_sequence(nodes_covid, edges_covid)"
   ]
  },
  {
   "cell_type": "code",
   "execution_count": null,
   "id": "yellow-stretch",
   "metadata": {},
   "outputs": [],
   "source": [
    "# Write assembled sequence to file\n",
    "\n",
    "assmebled_seq = \"\" # Use your assembled genome\n",
    "with open(\"covid_overlap.txt\", \"w\") as f:\n",
    "    f.write(assmebled_seq)"
   ]
  },
  {
   "cell_type": "markdown",
   "id": "productive-month",
   "metadata": {},
   "source": [
    "# Question 3- Error-Aware Assembly (Extra Credit)"
   ]
  },
  {
   "cell_type": "markdown",
   "id": "positive-absorption",
   "metadata": {},
   "source": [
    "In the parts above, we assumed error-free reads while assembling $k$-mers. As much as we'd like that, actual reads can (and do) have errors, captured by their Phred scores. For this question, you're given raw, actual reads from sequencing runs (download reads here: https://sra-pub-sars-cov2.s3.amazonaws.com/sra-src/SRR11528307/ABS2-LN-R1_cleaned_paired.fastq.gz).  Given these reads and their Phred33 scores, can you assemble the genome?\n",
    "\n",
    "<b>Print out your assembled sequence, along with a brief explanation of how your algorithm works</b>\n",
    "\n",
    "This is an open-ended question. You are free to use any approach to deal with the issue. Make sure you provide your code, along with any assumptions you may have, in the cells below."
   ]
  },
  {
   "cell_type": "code",
   "execution_count": null,
   "id": "vertical-manual",
   "metadata": {},
   "outputs": [],
   "source": []
  },
  {
   "cell_type": "code",
   "execution_count": null,
   "id": "round-delay",
   "metadata": {},
   "outputs": [],
   "source": []
  }
 ],
 "metadata": {
  "interpreter": {
   "hash": "84472160e2b844a33d80e075be3132bfe2565675498812d4ae3271c87f1aca37"
  },
  "kernelspec": {
   "display_name": "Python 3.9.12 ('base')",
   "language": "python",
   "name": "python3"
  },
  "language_info": {
   "codemirror_mode": {
    "name": "ipython",
    "version": 3
   },
   "file_extension": ".py",
   "mimetype": "text/x-python",
   "name": "python",
   "nbconvert_exporter": "python",
   "pygments_lexer": "ipython3",
   "version": "3.9.13"
  }
 },
 "nbformat": 4,
 "nbformat_minor": 5
}
